{
 "cells": [
  {
   "cell_type": "code",
   "execution_count": 2,
   "metadata": {},
   "outputs": [],
   "source": [
    "import pydicom\n",
    "import numpy as np\n",
    "import os\n",
    "import dash\n",
    "from dash import dcc, html\n",
    "from dash.dependencies import Input, Output\n",
    "import plotly.express as px\n"
   ]
  },
  {
   "cell_type": "code",
   "execution_count": 6,
   "metadata": {},
   "outputs": [],
   "source": [
    "def load_dicom_series(dicom_dir : str) -> np.ndarray: \n",
    "    # list files\n",
    "    dicom_files = sorted([os.path.join(dicom_dir, f) for f in os.listdir(dicom_dir) if f.endswith('.DCM')])\n",
    "    # read dcm \n",
    "    slices = [pydicom.dcmread(dcm) for dcm in dicom_files]\n",
    "    slices.sort(key=lambda x: int(x.InstanceNumber))  # Sort by slice order\n",
    "    # stack and make into 3d volume\n",
    "    volume = np.stack([s.pixel_array for s in slices], axis=-1)\n",
    "    return volume\n",
    "\n",
    "# Load DICOM data\n",
    "DICOM_DIR = \"/Users/akshdeepsandhu/Desktop/MRI/imrh_114a/imoco_recon_0\"  \n",
    "volume = load_dicom_series(DICOM_DIR)\n",
    "dimensions = volume.shape"
   ]
  },
  {
   "cell_type": "code",
   "execution_count": null,
   "metadata": {},
   "outputs": [
    {
     "data": {
      "text/html": [
       "\n",
       "        <iframe\n",
       "            width=\"100%\"\n",
       "            height=\"650\"\n",
       "            src=\"http://127.0.0.1:8050/\"\n",
       "            frameborder=\"0\"\n",
       "            allowfullscreen\n",
       "            \n",
       "        ></iframe>\n",
       "        "
      ],
      "text/plain": [
       "<IPython.lib.display.IFrame at 0x122b4c5f0>"
      ]
     },
     "metadata": {},
     "output_type": "display_data"
    }
   ],
   "source": [
    "\n",
    "# Dash app\n",
    "app = dash.Dash(__name__)\n",
    "\n",
    "app.layout = html.Div([\n",
    "    html.H1(\"DICOM Viewer\"),\n",
    "    \n",
    "    html.Div([\n",
    "        html.Label(\"Select Axis:\"),\n",
    "        dcc.Dropdown(\n",
    "            id='axis-selector',\n",
    "            options=[\n",
    "                {'label': 'X-Axis', 'value': 'x'},\n",
    "                {'label': 'Y-Axis', 'value': 'y'},\n",
    "                {'label': 'Z-Axis', 'value': 'z'}\n",
    "            ],\n",
    "            value='z'\n",
    "        )\n",
    "    ], style={'width': '30%', 'display': 'inline-block'}),\n",
    "    \n",
    "    html.Div([\n",
    "        html.Label(\"Slice Index:\"),\n",
    "        dcc.Slider(\n",
    "            id='slice-slider',\n",
    "            min=0,\n",
    "            max=dimensions[2] - 1,\n",
    "            step=1,\n",
    "            value=0,\n",
    "            marks={i: str(i) for i in range(0, dimensions[2], max(1, dimensions[2] // 10))}\n",
    "        )\n",
    "    ], style={'width': '60%', 'display': 'inline-block', 'padding': '0px 20px'}),\n",
    "    \n",
    "    html.Div([\n",
    "        html.Label(\"Adjust Contrast:\"),\n",
    "        dcc.Slider(\n",
    "            id='contrast-slider',\n",
    "            min=0,\n",
    "            max=1.5,\n",
    "            step=0.01,\n",
    "            value=1.0,\n",
    "            marks={i: f\"{i}\" for i in range(0, 1)}\n",
    "        )\n",
    "    ], style={'width': '30%', 'display': 'inline-block'}),\n",
    "    \n",
    "    dcc.Graph(id='slice-display', style={'height': '600px'})  \n",
    "])\n",
    "\n",
    "@app.callback(\n",
    "    Output('slice-display', 'figure'),\n",
    "    [Input('axis-selector', 'value'),\n",
    "     Input('slice-slider', 'value'),\n",
    "     Input('contrast-slider', 'value')]\n",
    ")\n",
    "def update_slice(axis, index, contrast):\n",
    "    if axis == 'x':\n",
    "        slice_2d = volume[index, :, :]\n",
    "        title = f'Slice at X={index}'\n",
    "    elif axis == 'y':\n",
    "        slice_2d = volume[:, index, :]\n",
    "        title = f'Slice at Y={index}'\n",
    "    elif axis == 'z':\n",
    "        slice_2d = volume[:, :, index]\n",
    "        title = f'Slice at Z={index}'\n",
    "    else:\n",
    "        slice_2d = np.zeros_like(volume[:, :, 0])  \n",
    "        title = \"Invalid Axis\"\n",
    "\n",
    "    # contrast\n",
    "    slice_2d = np.clip(slice_2d * contrast, 0, 255)  \n",
    "    # rotate\n",
    "    slice_2d = np.rot90(slice_2d,k=3)\n",
    "\n",
    "    # plot\n",
    "    fig = px.imshow(slice_2d, color_continuous_scale='gray')\n",
    "    fig.update_layout(\n",
    "        title=title,\n",
    "        coloraxis_showscale=False,\n",
    "        margin=dict(l=10, r=10, t=40, b=10)  \n",
    "    )\n",
    "    return fig\n",
    "\n",
    "if __name__ == '__main__':\n",
    "    app.run_server(debug=True)\n"
   ]
  },
  {
   "cell_type": "markdown",
   "metadata": {},
   "source": []
  }
 ],
 "metadata": {
  "kernelspec": {
   "display_name": "mri_metrics",
   "language": "python",
   "name": "python3"
  },
  "language_info": {
   "codemirror_mode": {
    "name": "ipython",
    "version": 3
   },
   "file_extension": ".py",
   "mimetype": "text/x-python",
   "name": "python",
   "nbconvert_exporter": "python",
   "pygments_lexer": "ipython3",
   "version": "3.12.2"
  }
 },
 "nbformat": 4,
 "nbformat_minor": 2
}
